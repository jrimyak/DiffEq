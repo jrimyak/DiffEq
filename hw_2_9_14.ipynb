{
 "cells": [
  {
   "cell_type": "markdown",
   "source": [
    "## Homework 2.9.14\n",
    "Looking at oscillations of the logistic difference equation  "
   ],
   "metadata": {}
  },
  {
   "cell_type": "code",
   "execution_count": null,
   "source": [
    "import numpy as np # package for scientific math\n",
    "import matplotlib.pyplot as plt # package for graphing"
   ],
   "outputs": [],
   "metadata": {}
  },
  {
   "cell_type": "markdown",
   "source": [
    "The logisttic difference equation is: $ y_{n+1} = \\rho * y_n (1 - y_n) $"
   ],
   "metadata": {}
  },
  {
   "cell_type": "code",
   "execution_count": null,
   "source": [
    "N = 40 # number of iterations \n",
    "rho_1 = 3 # initial value of rho\n",
    "y0 = 0.5 # initial condition "
   ],
   "outputs": [],
   "metadata": {}
  },
  {
   "cell_type": "code",
   "execution_count": null,
   "source": [
    "def recursive_solve(y0, N, rho):\n",
    "    y = np.zeros(N) # creates a list to sttore the values of y \n",
    "    y[0] = y0 # first pos in list is our initial condition \n",
    "\n",
    "    for i in range(1, N):\n",
    "        y[i] = rho * y[i - 1] * (1 - y[i-1]) # applying our recursive equation N times and storing the value in our list\n",
    "    \n",
    "    return y"
   ],
   "outputs": [],
   "metadata": {}
  },
  {
   "cell_type": "code",
   "execution_count": null,
   "source": [
    "y1 = recursive_solve(y0, N, rho_1)\n",
    "print('0: ' + str(y1[0]) + ' 2: ' + str(y1[2]) + ' 4 : ' + str(y1[4]))"
   ],
   "outputs": [],
   "metadata": {}
  },
  {
   "cell_type": "code",
   "execution_count": null,
   "source": [
    "plt.plot(y1)\n",
    "print('0: ' + str(y1[0]) + ' 1: ' + str(y1[1]) + ' 2: ' + str(y1[2]) + ' 3 : ' + str(y1[3]) + ' 4: ' + str(y1[4]) + ' 5 : ' + str(y1[5]))\n",
    "plt.grid()\n",
    "plt.xlabel('Number of Iterations (N)')\n",
    "plt.ylabel('Y[n]')\n",
    "plt.title('Plot 1: rho = {} , $ y_0 $ = {}'.format(rho_1,y1[0]))"
   ],
   "outputs": [],
   "metadata": {}
  },
  {
   "cell_type": "code",
   "execution_count": null,
   "source": [
    "rho_2 = 3.4\n",
    "y2 = recursive_solve(y0, N, rho_2)\n",
    "print('0: ' + str(y2[0]) + ' 1: ' + str(y2[1]) + ' 2: ' + str(y2[2]) + ' 3 : ' + str(y2[3]) + ' 4: ' + str(y2[4]) + ' 5 : ' + str(y2[5]))\n",
    "plt.plot(y2)\n",
    "plt.grid()\n",
    "plt.xlabel('Number of Iterations (N)')\n",
    "plt.ylabel('Y[n]')\n",
    "plt.title('Plot 1: rho = {} , $ y_0 $ = {}'.format(rho_2,y2[0]))"
   ],
   "outputs": [],
   "metadata": {}
  },
  {
   "cell_type": "code",
   "execution_count": null,
   "source": [
    "rho_3 = 3.5\n",
    "y3 = recursive_solve(y0, N, rho_3)\n",
    "print('0: ' + str(y3[0]) + ' 1: ' + str(y3[1]) + ' 2: ' + str(y3[2]) + ' 3 : ' + str(y3[3]) + ' 4: ' + str(y3[4]) + ' 5 : ' + str(y3[5]))\n",
    "\n",
    "plt.plot(y3)\n",
    "plt.grid()\n",
    "plt.xlabel('Number of Iterations (N)')\n",
    "plt.ylabel('Y[n]')\n",
    "plt.title('Plot 1: rho = {} , $ y_0 $ = {}'.format(rho_3,y3[0]))"
   ],
   "outputs": [],
   "metadata": {}
  },
  {
   "cell_type": "code",
   "execution_count": null,
   "source": [
    "y = np.zeros(1000) # creates a list to sttore the values of y \n",
    "y[0] = 2\n",
    "for t in range(0, 999):\n",
    "    y[t+1] = y[t] + (-(t*0.01) * y[t] + 0.1*y[t]**3)*(0.01)\n",
    "print(y)"
   ],
   "outputs": [],
   "metadata": {}
  },
  {
   "cell_type": "code",
   "execution_count": null,
   "source": [
    "rho_4 = 3.55\n",
    "y4 = recursive_solve(y0, N, rho_4)\n",
    "print('0: ' + str(y4[0]) + ' 1: ' + str(y4[1]) + ' 2: ' + str(y4[2]) + ' 3 : ' + str(y4[3]) + ' 4: ' + str(y4[4]) + ' 5 : ' + str(y4[5]) + ' 6 : ' + str(y4[6]) + ' 7 : ' + str(y4[7]) + ' 8 : ' + str(y4[8]))\n",
    "plt.plot(y4)\n",
    "plt.grid()\n",
    "plt.xlabel('Number of Iterations (N)')\n",
    "plt.ylabel('Y[n]')\n",
    "plt.title('Plot 1: rho = {} , $ y_0 $ = {}'.format(rho_4,y4[0]))"
   ],
   "outputs": [],
   "metadata": {}
  }
 ],
 "metadata": {
  "orig_nbformat": 4,
  "language_info": {
   "name": "python",
   "version": "3.8.5",
   "mimetype": "text/x-python",
   "codemirror_mode": {
    "name": "ipython",
    "version": 3
   },
   "pygments_lexer": "ipython3",
   "nbconvert_exporter": "python",
   "file_extension": ".py"
  },
  "kernelspec": {
   "name": "python3",
   "display_name": "Python 3.8.5 64-bit ('venv': venv)"
  },
  "interpreter": {
   "hash": "46e25000ed09dc5ca72c8f33ec8c0c8ed4adc50563c865121294ed2b51478e59"
  }
 },
 "nbformat": 4,
 "nbformat_minor": 2
}