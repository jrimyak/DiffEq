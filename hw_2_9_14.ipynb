{
 "cells": [
  {
   "cell_type": "markdown",
   "source": [
    "## Homework 2.9.14\n",
    "Looking at oscillations of the logistic difference equation  "
   ],
   "metadata": {}
  },
  {
   "cell_type": "code",
   "execution_count": 1,
   "source": [
    "import numpy as np # package for scientific math\n",
    "import matplotlib.pyplot as plt # package for graphing"
   ],
   "outputs": [],
   "metadata": {}
  },
  {
   "cell_type": "code",
   "execution_count": null,
   "source": [],
   "outputs": [],
   "metadata": {}
  }
 ],
 "metadata": {
  "orig_nbformat": 4,
  "language_info": {
   "name": "python",
   "version": "3.8.5",
   "mimetype": "text/x-python",
   "codemirror_mode": {
    "name": "ipython",
    "version": 3
   },
   "pygments_lexer": "ipython3",
   "nbconvert_exporter": "python",
   "file_extension": ".py"
  },
  "kernelspec": {
   "name": "python3",
   "display_name": "Python 3.8.5 64-bit ('venv': venv)"
  },
  "interpreter": {
   "hash": "46e25000ed09dc5ca72c8f33ec8c0c8ed4adc50563c865121294ed2b51478e59"
  }
 },
 "nbformat": 4,
 "nbformat_minor": 2
}